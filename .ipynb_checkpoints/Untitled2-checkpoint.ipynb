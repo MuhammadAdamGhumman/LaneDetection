{
 "cells": [
  {
   "cell_type": "code",
   "execution_count": 69,
   "metadata": {},
   "outputs": [
    {
     "name": "stdout",
     "output_type": "stream",
     "text": [
      "55.999996\n",
      "51.999996\n",
      "120.0\n",
      "43.999996\n",
      "123.999985\n",
      "115.99999\n",
      "43.999996\n",
      "72.0\n",
      "111.99999\n",
      "39.999996\n",
      "127.99999\n",
      "67.99999\n",
      "107.99999\n",
      "84.0\n",
      "36.0\n",
      "87.99999\n",
      "79.99999\n",
      "91.99999\n",
      "36.0\n",
      "84.0\n",
      "75.99999\n",
      "91.99999\n",
      "84.0\n",
      "87.99999\n",
      "31.999998\n",
      "96.0\n",
      "31.999998\n",
      "132.0\n",
      "103.99999\n",
      "91.99999\n",
      "103.99999\n",
      "87.99999\n",
      "99.99999\n",
      "31.999998\n",
      "96.0\n",
      "87.99999\n",
      "99.99999\n",
      "27.999998\n",
      "27.999998\n",
      "60.0\n",
      "79.99999\n",
      "63.999996\n",
      "135.99998\n",
      "27.999998\n"
     ]
    },
    {
     "data": {
      "text/plain": [
       "True"
      ]
     },
     "execution_count": 69,
     "metadata": {},
     "output_type": "execute_result"
    }
   ],
   "source": [
    "import cv2\n",
    "import numpy as np\n",
    "import math\n",
    "import matplotlib.pyplot as plt\n",
    "\n",
    "\n",
    "img = \"test5_roi.jpg\"\n",
    "\n",
    "hough = cv2.imread(img, 0)\n",
    "\n",
    "lines = cv2.HoughLines(hough, 5, np.pi / 45, 200)\n",
    "\n",
    "thetas = np.zeros(180)\n",
    "\n",
    "check1 = 0\n",
    "check2 = 0\n",
    "\n",
    "for line in lines:\n",
    "    for rho, theta in line:\n",
    "        print(np.rad2deg(theta))\n",
    "        if (np.round(np.rad2deg(theta)) in np.arange(45, 70) and check1 == 0):\n",
    "            a = np.cos(theta)\n",
    "            b = np.sin(theta)\n",
    "            line1_x0 = a*rho\n",
    "            line1_y0 = b*rho\n",
    "            line1_x1 = int(line1_x0 + 1000*(-b))\n",
    "            line1_y1 = int(line1_y0 + 1000*(a))\n",
    "            line1_x2 = int(line1_x0 - 1000*(-b))\n",
    "            line1_y2 = int(line1_y0 - 1000*(a))\n",
    "            cv2.line(hough,(line1_x1,line1_y1),(line1_x2,line1_y2),255,2)\n",
    "            check1 = 1\n",
    "\n",
    "        if(np.round(np.rad2deg(theta)) in np.arange(100, 180) and check2 == 0):\n",
    "            a = np.cos(theta)\n",
    "            b = np.sin(theta)\n",
    "            line2_x0 = a*rho\n",
    "            line2_y0 = b*rho\n",
    "            line2_x1 = int(line2_x0 + 1000*(-b))\n",
    "            line2_y1 = int(line2_y0 + 1000*(a))\n",
    "            line2_x2 = int(line2_x0 - 1000*(-b))\n",
    "            line2_y2 = int(line2_y0 - 1000*(a))\n",
    "            cv2.line(hough,(line2_x1,line2_y1),(line2_x2,line2_y2),255,2) \n",
    "            check2 = 1\n",
    "\n",
    "cv2.imwrite('test5_test.jpg', hough)"
   ]
  },
  {
   "cell_type": "code",
   "execution_count": null,
   "metadata": {},
   "outputs": [],
   "source": []
  }
 ],
 "metadata": {
  "kernelspec": {
   "display_name": "Python [conda env:cv_course] *",
   "language": "python",
   "name": "conda-env-cv_course-py"
  },
  "language_info": {
   "codemirror_mode": {
    "name": "ipython",
    "version": 3
   },
   "file_extension": ".py",
   "mimetype": "text/x-python",
   "name": "python",
   "nbconvert_exporter": "python",
   "pygments_lexer": "ipython3",
   "version": "3.6.9"
  }
 },
 "nbformat": 4,
 "nbformat_minor": 2
}
