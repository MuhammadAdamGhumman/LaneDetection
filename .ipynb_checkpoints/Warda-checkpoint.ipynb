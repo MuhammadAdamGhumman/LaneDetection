{
 "cells": [
  {
   "cell_type": "code",
   "execution_count": 2,
   "metadata": {},
   "outputs": [
    {
     "name": "stdout",
     "output_type": "stream",
     "text": [
      "Done\n"
     ]
    }
   ],
   "source": [
    "import cv2\n",
    "import numpy as np\n",
    "import math\n",
    "\n",
    "img = \"test3.jpg\"\n",
    "\n",
    "pic = cv2.imread(img, 1)\n",
    "\n",
    "B = cv2.imread(img, 0)\n",
    "\n",
    "hsv = cv2.cvtColor(pic, cv2.COLOR_RGB2HSV)\n",
    "\n",
    "cv2.imwrite('test3_hsv.jpg', hsv)\n",
    "\n",
    "gblur = cv2.GaussianBlur(hsv, (5,5), 0)\n",
    "\n",
    "cv2.imwrite('test3_blur.jpg', gblur)\n",
    "\n",
    "step3 = cv2.imread(img, 1)\n",
    "\n",
    "for y in range(step3.shape[0]):\n",
    "        for x in range(step3.shape[1]):\n",
    "            step3[y,x] = 0     \n",
    "\n",
    "def colourRanging(g, g_copy):\n",
    "    for y in range(g.shape[0]):\n",
    "        for x in range(g.shape[1]):\n",
    "            if (95<g[y,x,0]<110  and 50<g[y,x,1]< 150): #yellow\n",
    "                g_copy[y,x] = pic[y,x]\n",
    "            if (0<g[y,x,0]<120 and 0<g[y,x,1]<16): #white\n",
    "                g_copy[y,x] = pic[y,x]\n",
    "                \n",
    "    return g_copy\n",
    "\n",
    "step3 = colourRanging(gblur, step3)\n",
    "\n",
    "cv2.imwrite('test3_step3.jpg', step3)\n",
    "\n",
    "print(\"Done\")"
   ]
  },
  {
   "cell_type": "code",
   "execution_count": null,
   "metadata": {},
   "outputs": [],
   "source": []
  }
 ],
 "metadata": {
  "kernelspec": {
   "display_name": "Python [conda env:cv_course] *",
   "language": "python",
   "name": "conda-env-cv_course-py"
  },
  "language_info": {
   "codemirror_mode": {
    "name": "ipython",
    "version": 3
   },
   "file_extension": ".py",
   "mimetype": "text/x-python",
   "name": "python",
   "nbconvert_exporter": "python",
   "pygments_lexer": "ipython3",
   "version": "3.7.4"
  }
 },
 "nbformat": 4,
 "nbformat_minor": 2
}
