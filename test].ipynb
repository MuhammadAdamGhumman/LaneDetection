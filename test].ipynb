{
 "cells": [
  {
   "cell_type": "code",
   "execution_count": 1,
   "metadata": {},
   "outputs": [],
   "source": [
    "import numpy as np\n",
    "import math\n",
    "import cv2\n",
    "import matplotlib.pyplot as plt\n",
    "from mpl_toolkits import mplot3d"
   ]
  },
  {
   "cell_type": "code",
   "execution_count": 2,
   "metadata": {},
   "outputs": [
    {
     "data": {
      "text/plain": [
       "True"
      ]
     },
     "execution_count": 2,
     "metadata": {},
     "output_type": "execute_result"
    }
   ],
   "source": [
    "newimg = cv2.imread('test1.jpg', 1)\n",
    "newimghsv = cv2.cvtColor(newimg, cv2.COLOR_RGB2HSV)\n",
    "newimggray = cv2.cvtColor(newimg, cv2.COLOR_RGB2GRAY)\n",
    "cv2.imwrite('hsv.jpg', newimghsv)\n",
    "cv2.imwrite('gray.jpg', newimggray)"
   ]
  },
  {
   "cell_type": "code",
   "execution_count": 3,
   "metadata": {},
   "outputs": [
    {
     "ename": "ValueError",
     "evalue": "too many values to unpack (expected 2)",
     "output_type": "error",
     "traceback": [
      "\u001b[1;31m---------------------------------------------------------------------------\u001b[0m",
      "\u001b[1;31mValueError\u001b[0m                                Traceback (most recent call last)",
      "\u001b[1;32m<ipython-input-3-fc23395eced5>\u001b[0m in \u001b[0;36m<module>\u001b[1;34m\u001b[0m\n\u001b[0;32m     50\u001b[0m \u001b[1;33m\u001b[0m\u001b[0m\n\u001b[0;32m     51\u001b[0m \u001b[1;31m#newfx, newfy ,height, width =\u001b[0m\u001b[1;33m\u001b[0m\u001b[1;33m\u001b[0m\u001b[1;33m\u001b[0m\u001b[0m\n\u001b[1;32m---> 52\u001b[1;33m \u001b[0mconvfunction\u001b[0m\u001b[1;33m(\u001b[0m\u001b[0mf\u001b[0m\u001b[1;33m,\u001b[0m \u001b[0mnewimghsv\u001b[0m\u001b[1;33m,\u001b[0m \u001b[0msize\u001b[0m\u001b[1;33m)\u001b[0m\u001b[1;33m\u001b[0m\u001b[1;33m\u001b[0m\u001b[0m\n\u001b[0m",
      "\u001b[1;32m<ipython-input-3-fc23395eced5>\u001b[0m in \u001b[0;36mconvfunction\u001b[1;34m(f, newimghsv, size)\u001b[0m\n\u001b[0;32m     30\u001b[0m \u001b[1;32mdef\u001b[0m \u001b[0mconvfunction\u001b[0m\u001b[1;33m(\u001b[0m\u001b[0mf\u001b[0m\u001b[1;33m,\u001b[0m \u001b[0mnewimghsv\u001b[0m\u001b[1;33m,\u001b[0m \u001b[0msize\u001b[0m\u001b[1;33m)\u001b[0m\u001b[1;33m:\u001b[0m\u001b[1;33m\u001b[0m\u001b[1;33m\u001b[0m\u001b[0m\n\u001b[0;32m     31\u001b[0m \u001b[1;33m\u001b[0m\u001b[0m\n\u001b[1;32m---> 32\u001b[1;33m     \u001b[0mh\u001b[0m\u001b[1;33m,\u001b[0m \u001b[0mw\u001b[0m \u001b[1;33m=\u001b[0m \u001b[0mnewimghsv\u001b[0m\u001b[1;33m.\u001b[0m\u001b[0mshape\u001b[0m\u001b[1;33m\u001b[0m\u001b[1;33m\u001b[0m\u001b[0m\n\u001b[0m\u001b[0;32m     33\u001b[0m     \u001b[0mheight\u001b[0m \u001b[1;33m=\u001b[0m \u001b[0mh\u001b[0m \u001b[1;33m-\u001b[0m \u001b[0msize\u001b[0m \u001b[1;33m+\u001b[0m \u001b[1;36m1\u001b[0m\u001b[1;33m\u001b[0m\u001b[1;33m\u001b[0m\u001b[0m\n\u001b[0;32m     34\u001b[0m     \u001b[0mwidth\u001b[0m \u001b[1;33m=\u001b[0m \u001b[0mw\u001b[0m \u001b[1;33m-\u001b[0m \u001b[0msize\u001b[0m \u001b[1;33m+\u001b[0m \u001b[1;36m1\u001b[0m\u001b[1;33m\u001b[0m\u001b[1;33m\u001b[0m\u001b[0m\n",
      "\u001b[1;31mValueError\u001b[0m: too many values to unpack (expected 2)"
     ]
    }
   ],
   "source": [
    "sigma = 0.5\n",
    "T = 0.3\n",
    "scale = 255\n",
    "#newimg = np.array(newimg)\n",
    "\n",
    "def calculate_filter_size(sigma, T):\n",
    "    sHalf = round(np.sqrt(- np.log(T) * 2 * sigma**2))\n",
    "    return sHalf\n",
    "\n",
    "sHalf = calculate_filter_size(sigma, T)\n",
    "size = (2 * sHalf) + 1\n",
    "size = int(size)\n",
    "x = np.arange(-sHalf, sHalf+1)\n",
    "y = np.arange(-sHalf, sHalf+1)\n",
    "\n",
    "def calculate_gradient(sHalf, sigma,x,y):\n",
    "    \n",
    "    [Y,X] = np.meshgrid(x,y)\n",
    "\n",
    "    f = (np.exp(-(X**2 + Y**2)/(2*(sigma**2))))\n",
    "        \n",
    "    return f\n",
    "\n",
    "f = calculate_gradient(sHalf, sigma, x, y)\n",
    "\n",
    "f =  np.round(f * scale)  \n",
    "\n",
    "f = f / np.sum(f)\n",
    "\n",
    "def convfunction(f, newimghsv, size):\n",
    "    \n",
    "    h, w = newimghsv.shape\n",
    "    height = h - size + 1\n",
    "    width = w - size + 1\n",
    "    \n",
    "    newfx = np.zeros((height, width))\n",
    "    newfy = np.zeros((height, width))\n",
    "    \n",
    "    for i in range (height):\n",
    "        for j in range (width): \n",
    "            for a in range(size):\n",
    "                for b in range(size):\n",
    "                    newf[i][j] += f[a][b] * newimghsv[i + a][b + j]\n",
    "    \n",
    "    newf = np.round(newf / 255)\n",
    "    \n",
    "    cv2.imwrite('f.jpg', newfx)\n",
    "    \n",
    "    return newfx, newfy #, height, width\n",
    "\n",
    "#newfx, newfy ,height, width = \n",
    "convfunction(f, newimghsv, size)                         "
   ]
  },
  {
   "cell_type": "code",
   "execution_count": null,
   "metadata": {},
   "outputs": [],
   "source": []
  }
 ],
 "metadata": {
  "kernelspec": {
   "display_name": "Python 3",
   "language": "python",
   "name": "python3"
  },
  "language_info": {
   "codemirror_mode": {
    "name": "ipython",
    "version": 3
   },
   "file_extension": ".py",
   "mimetype": "text/x-python",
   "name": "python",
   "nbconvert_exporter": "python",
   "pygments_lexer": "ipython3",
   "version": "3.7.4"
  }
 },
 "nbformat": 4,
 "nbformat_minor": 2
}
