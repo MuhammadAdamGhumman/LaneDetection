{
 "cells": [
  {
   "cell_type": "code",
   "execution_count": 2,
   "metadata": {},
   "outputs": [],
   "source": [
    "import numpy as np\n",
    "import cv2\n",
    "import matplotlib.pyplot as plt\n",
    "import math\n",
    "#import imageio\n",
    "img=cv2.imread(\"test3.jpg\",1)       #rgb"
   ]
  },
  {
   "cell_type": "code",
   "execution_count": 3,
   "metadata": {},
   "outputs": [
    {
     "data": {
      "image/png": "[encoded data removed]",
      "text/plain": [
       "<Figure size 432x288 with 1 Axes>"
      ]
     },
     "metadata": {
      "needs_background": "light"
     },
     "output_type": "display_data"
    },
    {
     "data": {
      "text/plain": [
       "True"
      ]
     },
     "execution_count": 3,
     "metadata": {},
     "output_type": "execute_result"
    }
   ],
   "source": [
    "#STEP 1\n",
    "def step1(img):\n",
    "    imghsv=img.copy()\n",
    "    imghsv=cv2.cvtColor(imghsv,cv2.COLOR_RGB2HSV)\n",
    "    B=np.ones(img.shape)\n",
    "    return imghsv,B\n",
    "\n",
    "imghsv,B=step1(img)\n",
    "cv2.imwrite(\"imghsv.jpg\",imghsv)\n",
    "cv2.imwrite(\"B.jpg\",B)\n",
    "\n",
    "#STEP 2\n",
    "def step2(imghsv):\n",
    "    gblur=cv2.GaussianBlur(imghsv,(5,5),0)\n",
    "    return gblur\n",
    "\n",
    "gblur=step2(imghsv)\n",
    "cv2.imwrite(\"gblur.jpg\",gblur)\n",
    "\n",
    "#STEP 3\n",
    "def step3(gblur,B,img):\n",
    "    for i in range(gblur.shape[0]):\n",
    "        for j in range(gblur.shape[1]):\n",
    "            if(0<gblur[i,j,0]<120 and 0<gblur[i,j,1]<16):    #if white\n",
    "                B[i,j,0]=img[i,j,0]\n",
    "                B[i,j,1]=img[i,j,1]\n",
    "                B[i,j,2]=img[i,j,2]\n",
    "            if(95<gblur[i,j,0]<110 and 50<gblur[i,j,1]<150):     #if yellow\n",
    "                B[i,j,0]=img[i,j,0]\n",
    "                B[i,j,1]=img[i,j,1]\n",
    "                B[i,j,2]=img[i,j,2]\n",
    "    return B\n",
    "\n",
    "B=step3(gblur,B,img)\n",
    "cv2.imwrite(\"step3.jpg\",B)  \n",
    "\n",
    "#STEP 4\n",
    "def step4(img,B):\n",
    "    Ig=img.copy()\n",
    "    Ig=cv2.cvtColor(Ig,cv2.COLOR_RGB2GRAY)\n",
    "    canny=cv2.Canny(Ig,50,150)\n",
    "    for i in range(canny.shape[0]):\n",
    "        for j in range(canny.shape[1]):\n",
    "            if(B[i,j,0]==1 and B[i,j,1]==1 and B[i,j,2]==1):\n",
    "                canny[i][j]=0\n",
    "    return canny\n",
    "\n",
    "canny=step4(img,B)\n",
    "cv2.imwrite(\"canny.jpg\",canny)\n",
    "plt.imshow(canny)\n",
    "plt.show()\n",
    "\n",
    "#STEP 5\n",
    "def step5(canny):\n",
    "    height=canny.shape[0]\n",
    "    vertices=np.array([[(180,height),(380,350),(570,350),(920,height)]])\n",
    "    mask=np.zeros_like(canny)\n",
    "    cv2.fillPoly(mask,vertices,255)\n",
    "    canny1=canny.copy()\n",
    "    for i in range(mask.shape[0]):\n",
    "        for j in range(mask.shape[1]):\n",
    "            if(mask[i][j]==0):\n",
    "                canny1[i][j]=0\n",
    "    return canny1\n",
    "roi=step5(canny)\n",
    "cv2.imwrite(\"roi.jpg\",roi)\n",
    "\n",
    "#STEP 6\n",
    "    "
   ]
  },
  {
   "cell_type": "code",
   "execution_count": 55,
   "metadata": {},
   "outputs": [
    {
     "name": "stderr",
     "output_type": "stream",
     "text": [
      "C:\\Users\\Warda\\Anaconda3\\envs\\myenv\\lib\\site-packages\\ipykernel_launcher.py:6: DeprecationWarning: object of type <class 'numpy.float64'> cannot be safely interpreted as an integer.\n",
      "  \n"
     ]
    },
    {
     "name": "stdout",
     "output_type": "stream",
     "text": [
      "-35.51611438946884\n",
      "-61.0\n"
     ]
    },
    {
     "data": {
      "text/plain": [
       "True"
      ]
     },
     "execution_count": 55,
     "metadata": {},
     "output_type": "execute_result"
    }
   ],
   "source": [
    "def hough(roi):\n",
    "    lines=roi.copy()\n",
    "    thetas = np.deg2rad(np.arange(-90.0, 90.0))      #range of thetas in radians\n",
    "    width, height = lines.shape                     #width=960, height=540\n",
    "    hypot = np.ceil(np.sqrt(width * width + height * height))   #diagonal length of the image(hypot)\n",
    "    rhos = np.linspace(-hypot, hypot, hypot * 2.0)\n",
    "\n",
    "    # Cache some resuable values\n",
    "    cos_t = np.cos(thetas)\n",
    "    sin_t = np.sin(thetas)\n",
    "    total_thetas = len(thetas)\n",
    "    \n",
    "    # Hough accumulator array of theta vs rho\n",
    "    w=int(2*hypot)\n",
    "    A = np.zeros((w, total_thetas), dtype=np.uint64)        #matrix A with rows=num of rhos and cols=num of thetas\n",
    "    a, b = np.nonzero(lines)               #returns the indices of the elements that are non-zero\n",
    "    \n",
    "    # Vote in the hough accumulator\n",
    "    for i in range(len(b)):\n",
    "        x = b[i]\n",
    "        y = a[i]\n",
    "        for j in range(total_thetas):     # Calculate rho. diag_len is added for a positive index\n",
    "            rho = round(x * cos_t[j] + y * sin_t[j]) + hypot    #polar equation\n",
    "            rho=int(rho)\n",
    "            A[rho][j]=A[rho][j]+ 1\n",
    "\n",
    "    return A, thetas, rhos\n",
    "\n",
    "A, thetas, rhos=hough(roi)         #returns three matrices\n",
    "max = np.argmax(A)\n",
    "rho = rhos[int(max / A.shape[1])]\n",
    "print(rho)                           #x coordiante of local maxima\n",
    "theta = thetas[max % A.shape[1]]\n",
    "theta=np.rad2deg(theta)\n",
    "print(theta)                      #y coordiante of of the local maxima\n",
    "\n",
    "#for rho,theta in lines[0]:\n",
    "a = np.cos(theta)\n",
    "b = np.sin(theta)\n",
    "x0 = a*rho\n",
    "y0 = b*rho\n",
    "x1 = int(x0 + 1000*(-b))\n",
    "y1 = int(y0 + 1000*(a))\n",
    "x2 = int(x0 - 1000*(-b))\n",
    "y2 = int(y0 - 1000*(a))\n",
    "\n",
    "houghlines=np.zeros(roi.shape)\n",
    "cv2.line(houghlines,(x1,y1),(x2,y2),255,2)\n",
    "\n",
    "cv2.imwrite('houghlines.jpg',houghlines)\n",
    "\n",
    "lines_on_roi=roi.copy()\n",
    "for i in range(roi.shape[0]):\n",
    "    for j in range(roi.shape[1]):\n",
    "        if(houghlines[i][j]==255):\n",
    "            lines_on_roi[i][j]=houghlines[i][j]\n",
    "\n",
    "cv2.imwrite('lines_on_roi.jpg',lines_on_roi)"
   ]
  },
  {
   "cell_type": "markdown",
   "metadata": {},
   "source": []
  }
 ],
 "metadata": {
  "kernelspec": {
   "display_name": "Python 3",
   "language": "python",
   "name": "python3"
  },
  "language_info": {
   "codemirror_mode": {
    "name": "ipython",
    "version": 3
   },
   "file_extension": ".py",
   "mimetype": "text/x-python",
   "name": "python",
   "nbconvert_exporter": "python",
   "pygments_lexer": "ipython3",
   "version": "3.6.9"
  }
 },
 "nbformat": 4,
 "nbformat_minor": 2
}
