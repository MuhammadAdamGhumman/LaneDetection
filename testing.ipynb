{
 "cells": [
  {
   "cell_type": "code",
   "execution_count": 91,
   "metadata": {},
   "outputs": [
    {
     "data": {
      "text/plain": [
       "True"
      ]
     },
     "execution_count": 91,
     "metadata": {},
     "output_type": "execute_result"
    }
   ],
   "source": [
    "import cv2\n",
    "import numpy as np\n",
    "\n",
    "img = \"test1.jpg\"\n",
    "\n",
    "pic = cv2.imread(img, 1)\n",
    "\n",
    "Ig_pic = cv2.cvtColor(pic, cv2.COLOR_BGR2GRAY)\n",
    "\n",
    "hsv = cv2.cvtColor(pic, cv2.COLOR_RGB2HSV)\n",
    "\n",
    "g = cv2.GaussianBlur(hsv,(5,5),0)\n",
    "\n",
    "step3 = cv2.imread(img, 1)\n",
    "\n",
    "lower_yellow = np.array([95, 50, 0], dtype = \"uint8\")\n",
    "upper_yellow = np.array([110, 150, 255], dtype=\"uint8\")\n",
    "\n",
    "lower_white = np.array([0, 0, 180], dtype = \"uint8\")\n",
    "upper_white = np.array([100, 30, 255], dtype=\"uint8\")\n",
    "\n",
    "mask_yellow = cv2.inRange(hsv, lower_yellow, upper_yellow)\n",
    "mask_white = cv2.inRange(hsv, lower_white, upper_white)\n",
    "mask_yw = cv2.bitwise_or(mask_white, mask_yellow)\n",
    "step3 = cv2.bitwise_and(Ig_pic, mask_yw)\n",
    "\n",
    "edges = cv2.Canny(step3,50,150)\n",
    "\n",
    "def rio(edges):               \n",
    "    height_factor = 2.8\n",
    "\n",
    "    top_w_r = 60\n",
    "\n",
    "    top_w_l = 120\n",
    "\n",
    "    bottom_w_r = 580\n",
    "\n",
    "    bottom_w_l = 600\n",
    "\n",
    "    a1 = np.array( [[[0 ,0], [0 ,np.round(edges.shape[0]/height_factor)], [edges.shape[1],np.round(edges.shape[0]/height_factor)],[edges.shape[1],0] ]], dtype=np.int32 )\n",
    "    \n",
    "    cv2.fillPoly( edges, a1, 0)\n",
    "\n",
    "    \n",
    "\n",
    "    a2 = np.array( [[[0 ,np.round(edges.shape[0]/height_factor)], [0 ,edges.shape[0]], [np.round(edges.shape[1]/2) - bottom_w_r   ,edges.shape[0]], [np.round(edges.shape[1]/2) - top_w_r   ,np.round(edges.shape[0]/height_factor)]]], dtype=np.int32 )\n",
    "\n",
    "    cv2.fillPoly( edges, a2, 0)\n",
    "\n",
    "    \n",
    "\n",
    "    a3 = np.array( [[[np.round(edges.shape[1]/2) + top_w_l   ,np.round(edges.shape[0]/height_factor)], [np.round(edges.shape[1]/2) + bottom_w_l    ,edges.shape[0]], [edges.shape[1],edges.shape[0]], [edges.shape[1],np.round(edges.shape[0]/height_factor)]]], dtype=np.int32 )\n",
    "\n",
    "    cv2.fillPoly( edges, a3, 0)\n",
    "    \n",
    "    return edges, a1, a2, a3\n",
    "\n",
    "edges, a1, a2, a3 = rio(edges)\n",
    "\n",
    "cv2.line(edges,tuple(a2[0, 2]), tuple(a2[0, 3]),255,2)\n",
    "\n",
    "cv2.line(edges,tuple(a3[0, 0]), tuple(a3[0, 1]),255,2)    \n",
    "    \n",
    "cv2.line(edges,tuple(a2[0, 3]), tuple(a3[0, 0]),255,2)\n",
    "\n",
    "cv2.imwrite('test1_test.jpg', edges)"
   ]
  },
  {
   "cell_type": "code",
   "execution_count": null,
   "metadata": {},
   "outputs": [],
   "source": []
  }
 ],
 "metadata": {
  "kernelspec": {
   "display_name": "Python [conda env:cv_course] *",
   "language": "python",
   "name": "conda-env-cv_course-py"
  },
  "language_info": {
   "codemirror_mode": {
    "name": "ipython",
    "version": 3
   },
   "file_extension": ".py",
   "mimetype": "text/x-python",
   "name": "python",
   "nbconvert_exporter": "python",
   "pygments_lexer": "ipython3",
   "version": "3.6.9"
  }
 },
 "nbformat": 4,
 "nbformat_minor": 2
}
